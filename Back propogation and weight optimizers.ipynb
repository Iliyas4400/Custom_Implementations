{
 "cells": [
  {
   "cell_type": "markdown",
   "metadata": {
    "colab_type": "text",
    "id": "N5QCLaUnrnBV"
   },
   "source": [
    "# Back Propagation"
   ]
  },
  {
   "cell_type": "markdown",
   "metadata": {},
   "source": [
    "Implement the custome backpropagation for the given graph and update the weights with vanill update(simple update),Momentum update and Adam update and compare the results."
   ]
  },
  {
   "cell_type": "markdown",
   "metadata": {
    "colab_type": "text",
    "id": "sH5jPVX-rnBd"
   },
   "source": [
    "## 1. loading of data"
   ]
  },
  {
   "cell_type": "code",
   "execution_count": 1,
   "metadata": {
    "colab": {},
    "colab_type": "code",
    "id": "y4WT0EJRrnBg",
    "outputId": "90804161-647c-4283-a8c2-27188dd451ce"
   },
   "outputs": [
    {
     "name": "stdout",
     "output_type": "stream",
     "text": [
      "(506, 6)\n",
      "(506, 5) (506,)\n"
     ]
    }
   ],
   "source": [
    "import pickle\n",
    "with open('data.pkl', 'rb') as f:\n",
    "    data = pickle.load(f)\n",
    "print(data.shape)\n",
    "X = data[:, :5]\n",
    "y = data[:, -1]\n",
    "print(X.shape, y.shape)"
   ]
  },
  {
   "cell_type": "markdown",
   "metadata": {
    "colab_type": "text",
    "id": "GIkq6U0SrnBu"
   },
   "source": [
    "# 2. Computational graph"
   ]
  },
  {
   "cell_type": "markdown",
   "metadata": {
    "colab_type": "text",
    "id": "3XnJH-McrnBx"
   },
   "source": [
    "<img src='https://i.imgur.com/seSGbNS.png'>"
   ]
  },
  {
   "cell_type": "markdown",
   "metadata": {
    "colab_type": "text",
    "id": "YRQKYgJrrnB0"
   },
   "source": [
    "<pre>\n",
    "1. if you observe the graph, we are having input features [f1, f2, f3, f4, f5] and 9 weights [w1, w2, w3, w4, w5, w6,    w7, w8, w9]\n",
    "2. the final output of this graph is a value L which is computed as (Y-Y')^2\n",
    "</pre>"
   ]
  },
  {
   "cell_type": "markdown",
   "metadata": {
    "colab_type": "text",
    "id": "inW-os8IrnB3"
   },
   "source": [
    "### Task 1: Implementing backpropagation and Gradient checking\n",
    "\n",
    "\n",
    " \n",
    " \n",
    "<pre>we know that the derivative of any function is </pre>$$\\lim_{\\epsilon\\to0}\\frac{f(x+\\epsilon)-f(x-\\epsilon)}{2\\epsilon}$$\n",
    "<pre>\n",
    "The definition above can be used as a numerical approximation of the derivative. Taking an epsilon small enough, the calculated approximation will have an error in the range of epsilon squared. \n",
    "\n",
    "In other words, if epsilon is 0.001, the approximation will be off by 0.00001.\n",
    "\n",
    "Therefore, we can use this to approximate the gradient, and in turn make sure that backpropagation is implemented properly. This forms the basis of gradient checking!\n",
    "\n",
    "</pre>\n",
    "\n",
    "<font >\n",
    "lets understand the concept with a simple example:\n",
    "$f(w1,w2,x1,x2)=w_{1}^{2} . x_{1} + w_{2} . x_{2}$ \n",
    "\n",
    "from the above function lets assume $w_{1}=1$, $w_{2}=2$, $x_{1}=3$, $x_{2}=4$ the gradient of $f$ w.r.t $w_{1}$ is\n",
    "\n",
    "\\begin{array} {lcl}\n",
    "\\frac{df}{dw_{1}} = dw_{1} &=&2.w_{1}.x_{1} \\\\& = &2.1.3\\\\& = &6\n",
    "\\end{array}\n",
    "\n",
    "\n",
    "let calculate the aproximate gradient of $w_{1}$ as mentinoned in the above formula and considering $\\epsilon=0.0001$\n",
    "\n",
    "\\begin{array} {lcl}\n",
    "dw_1^{approx} & = & \\frac{f(w1+\\epsilon,w2,x1,x2)-f(w1-\\epsilon,w2,x1,x2)}{2\\epsilon} \\\\ & = & \\frac{((1+0.0001)^{2} . 3 + 2 . 4) - ((1-0.0001)^{2} . 3 + 2 . 4)}{2\\epsilon} \\\\ & = & \\frac{(1.00020001 . 3 + 2 . 4) - (0.99980001. 3 + 2 . 4)}{2*0.0001} \\\\ & = & \\frac{(11.00060003) - (10.99940003)}{0.0002}\\\\ & = & 5.99999999999\n",
    "\\end{array}\n",
    "\n",
    "Then, we apply the following formula for gradient check: <i>gradient_check</i> = \n",
    "$\\frac{\\left\\Vert\\left (dW-dW^{approx}\\rm\\right) \\right\\Vert_2}{\\left\\Vert\\left (dW\\rm\\right) \\right\\Vert_2+\\left\\Vert\\left (dW^{approx}\\rm\\right) \\right\\Vert_2}$\n",
    "\n",
    "The equation above is basically the Euclidean distance normalized by the sum of the norm of the vectors. We use normalization in case that one of the vectors is very small.\n",
    "As a value for epsilon, we usually opt for 1e-7. Therefore, if gradient check return a value less than 1e-7, then it means that backpropagation was implemented correctly. Otherwise, there is potentially a mistake in your implementation. If the value exceeds 1e-3, then you are sure that the code is not correct.\n",
    "\n",
    "in our example: <i>gradient_check</i> $ = \\frac{(6 - 5.999999999994898)}{(6 + 5.999999999994898)} = 4.2514140356330737e^{-13}$\n",
    "\n",
    "you can mathamatically derive the same thing like this\n",
    "\n",
    "\\begin{array} {lcl}\n",
    "dw_1^{approx} & = & \\frac{f(w1+\\epsilon,w2,x1,x2)-f(w1-\\epsilon,w2,x1,x2)}{2\\epsilon} \\\\ & = & \\frac{((w_{1}+\\epsilon)^{2} . x_{1} + w_{2} . x_{2}) - ((w_{1}-\\epsilon)^{2} . x_{1} + w_{2} . x_{2})}{2\\epsilon} \\\\ & = & \\frac{4. \\epsilon.w_{1}. x_{1}}{2\\epsilon} \\\\ & = &  2.w_{1}.x_{1}\n",
    "\\end{array}\n",
    "\n",
    " "
   ]
  },
  {
   "cell_type": "code",
   "execution_count": 2,
   "metadata": {},
   "outputs": [],
   "source": [
    "import numpy as np\n",
    "w= np.random.normal(0,0.01,9) #randomly initialize weights\n",
    "def forward_propagation(X, y,w,i):#looking at the graph write corresponding eequations and derivatives \n",
    "    q1=w[0]*X[i][0]\n",
    "    q2=w[1]*X[i][1]\n",
    "    q3=q1+q2\n",
    "    q4=q2+q1\n",
    "    q5=q3*q4\n",
    "    q6=q5+w[5]\n",
    "    q7=np.exp(q6)\n",
    "    q8=q7+w[6]\n",
    "    q9=np.tanh(q8)\n",
    "    #----------------------------\n",
    "    k1=w[2]*X[i][2]\n",
    "    k2=np.sin(k1)\n",
    "    k3=w[3]*X[i][3]\n",
    "    k4=w[4]*X[i][4]\n",
    "    k5=k3+k4\n",
    "    k6=k2*k5\n",
    "    k7=k6+w[7]\n",
    "    k8=1/(1+np.exp(-(k7)))\n",
    "    k9=k8*w[8]\n",
    "    #-----------------------------\n",
    "    y_=q9+k9 #final predicted y value\n",
    "    L=(y[i]-y_)*(y[i]-y_) #Loss function\n",
    "    #-----------------------------\n",
    "    dL=1\n",
    "    dy_=-2*(y[i]-y_)\n",
    "    #-----------------------------\n",
    "    #derivatives of the first layer\n",
    "    d1={'dq9':1,'dq8':(1-(q9*q9)),'dq7':1,'dw6':1,'dq6':q7,'dq5':1,'dw5':1,'dq4':q3,'dq3':q4,'dq2':1,'dq1':1,'dw1':X[i][1],'dw0':X[i][0]}     \n",
    "    #------------------------------\n",
    "    #derivatives of the second layer\n",
    "    d2={'dk9':1,'dk8':w[8],'dw8':k8,'dk7':k8*(1-k8),'dk6':1,'dw7':1,'dk5':k2,'dk4':1,'dk3':1,'dw4':X[i][4],'dw3':X[i][3],'dk2':k5,'dk1':np.cos(k1),'dw2':X[i][2]}\n",
    "    \n",
    "    return y_,L,dL,dy_,d1,d2,w"
   ]
  },
  {
   "cell_type": "code",
   "execution_count": 3,
   "metadata": {},
   "outputs": [],
   "source": [
    "n=1 #row indecies\n",
    "y_,L,dL,dy_,d1,d2,w=forward_propagation(X,y,w,n)\n",
    "def backward_propagation(dL,dy_,d1,d2):\n",
    "    dw6=dL*dy_*d1['dq9']*d1['dq8']*d1['dw6']\n",
    "    dw5=dL*dy_*d1['dq9']*d1['dq8']*d1['dq7']*d1['dq6']*d1['dw5']\n",
    "    \n",
    "    a1=dL*dy_*d1['dq9']*d1['dq8']*d1['dq7']*d1['dq6']*d1['dq5']\n",
    "    dw0=(d1['dq3']+d1['dq4'])*a1*d1['dw0']*d1['dq1']\n",
    "    dw1=(d1['dq3']+d1['dq4'])*a1*d1['dw1']*d1['dq2']\n",
    "    \n",
    "    dw8=dL*dy_*d2['dk9']*d2['dw8']\n",
    "    dw7=dL*dy_*d2['dk9']*d2['dk8']*d2['dk7']*d2['dw7']\n",
    "    dw4=dw7*d2['dk6']*d2['dk5']*d2['dk4']*d2['dw4']\n",
    "    dw3=dw7*d2['dk6']*d2['dk5']*d2['dk3']*d2['dw3']\n",
    "    dw2=dw7*d2['dk6']*d2['dk2']*d2['dk1']*d2['dw2']\n",
    "    \n",
    "    return dw0,dw1,dw2,dw3,dw4,dw5,dw6,dw7,dw8\n",
    "a=list(backward_propagation(dL,dy_,d1,d2))"
   ]
  },
  {
   "cell_type": "code",
   "execution_count": 4,
   "metadata": {},
   "outputs": [
    {
     "name": "stdout",
     "output_type": "stream",
     "text": [
      "+---------+-------------------------+-------------------------+------------------------+\n",
      "| Weights |  Approximate Gradients  |     Back propogation    |   Gradient Checking    |\n",
      "+---------+-------------------------+-------------------------+------------------------+\n",
      "|    W0   |  -0.006905416802815978  |  -0.006905416824932472  | 1.6013873597987457e-09 |\n",
      "|    W1   |  0.0042728653359969115  |  0.0042728653396451035  | 4.2690228957893623e-10 |\n",
      "|    W2   |  -2.51444642884735e-06  | -2.5144435193303916e-06 | 5.785604752635608e-07  |\n",
      "|    W3   | -1.4745560328321972e-06 |  -1.474556279731987e-06 | 8.372003628093643e-08  |\n",
      "|    W4   | -1.1055667492598786e-06 | -1.1055663812919424e-06 | 1.6641600235784662e-07 |\n",
      "|    W5   |   -0.8909328341732969   |   -0.8909328363703829   | 1.233025583202973e-09  |\n",
      "|    W6   |   -0.8973068864615019   |   -0.8973068815571492   | 2.732817940622187e-09  |\n",
      "|    W7   |  -0.0005722657259177311 |  -0.0005722657260545572 | 1.195476953398298e-10  |\n",
      "|    W8   |   -1.0685448570935119   |   -1.0685448570929406   | 2.6733588425397293e-13 |\n",
      "+---------+-------------------------+-------------------------+------------------------+\n"
     ]
    }
   ],
   "source": [
    "from prettytable import PrettyTable\n",
    "    \n",
    "x = PrettyTable()\n",
    "x.field_names = [\"Weights\", \"Approximate Gradients\", \"Back propogation\", \"Gradient Checking\"]\n",
    "\n",
    "p=w.copy()\n",
    "e=0.0001\n",
    "for i in range(len(w)):\n",
    "    w=p\n",
    "    k=w.copy()\n",
    "    m=w.copy()\n",
    "    k[i]=k[i]+e\n",
    "    m[i]=m[i]-e\n",
    "    y_,L1,dL,dy_,d1,d2,w=forward_propagation(X,y,k,n)\n",
    "    y_,L2,dL,dy_,d1,d2,w=forward_propagation(X,y,m,n)\n",
    "    Ag=(L1-L2)/(2*e) #approximate gradient\n",
    "    \n",
    "    D=np.sqrt((Ag-a[i])*(Ag-a[i]))/((np.sqrt(Ag*Ag))+np.sqrt(a[i]*a[i]))\n",
    "    x.add_row([\"W\"+str(i), Ag, a[i],D])\n",
    "    \n",
    "print(x)"
   ]
  },
  {
   "cell_type": "markdown",
   "metadata": {},
   "source": [
    "# Observation"
   ]
  },
  {
   "cell_type": "markdown",
   "metadata": {},
   "source": [
    "Approximate gradients and Back propagation are similar as the Values in Gradient Checking column are in order of 10 power minus 9"
   ]
  },
  {
   "cell_type": "markdown",
   "metadata": {
    "colab_type": "text",
    "id": "mf1fj5ZernB5"
   },
   "source": [
    "# Task 2: Optimizers"
   ]
  },
  {
   "cell_type": "markdown",
   "metadata": {},
   "source": [
    "### Task 2.1:  Vanilla updation of weights"
   ]
  },
  {
   "cell_type": "code",
   "execution_count": 5,
   "metadata": {},
   "outputs": [
    {
     "name": "stdout",
     "output_type": "stream",
     "text": [
      "Weights before Vanilla update\n",
      "[ 0.00140723  0.00125678  0.00271272 -0.0054548  -0.00097197 -0.00176861\n",
      "  0.00247205 -0.00535512  0.01442945]\n",
      "==============================\n",
      "Weights after Vanilla update\n",
      "[ 0.01345175  0.01054735 -0.30157532 -0.14309243 -0.27062198  0.50464216\n",
      "  0.40057004  0.38614717  1.36894402]\n"
     ]
    }
   ],
   "source": [
    "print('Weights before Vanilla update')\n",
    "w= np.random.normal(0,0.01,9) #Randomly initialize initial weights\n",
    "print(w)\n",
    "print('='*30)\n",
    "\n",
    "loss1=[]\n",
    "for k in range(100):\n",
    "    for i in range(len(X)):\n",
    "        y_,L,dL,dy_,d1,d2,w=forward_propagation(X,y,w,i)\n",
    "        a=backward_propagation(dL,dy_,d1,d2)\n",
    "        w=w-(0.001*np.array(a))\n",
    "    l=[]\n",
    "    for i in range(len(X)):\n",
    "        y_,L,dL,dy_,d1,d2,w=forward_propagation(X,y,w,i)\n",
    "        l.append(L)\n",
    "    loss1.append(np.mean(l))\n",
    "print('Weights after Vanilla update')\n",
    "print(w)"
   ]
  },
  {
   "cell_type": "markdown",
   "metadata": {},
   "source": [
    "### Task 2.2:  Momentum updation of weights"
   ]
  },
  {
   "cell_type": "code",
   "execution_count": 6,
   "metadata": {},
   "outputs": [
    {
     "name": "stdout",
     "output_type": "stream",
     "text": [
      "Weights before Momentum update\n",
      "[-2.55405907e-03 -9.24331619e-03  3.59259333e-03  2.31813869e-04\n",
      " -8.68905467e-03  7.35799832e-03  1.35695241e-04  9.28708296e-05\n",
      "  6.14049780e-03]\n",
      "==============================\n",
      "Weights after Momentum update\n",
      "[-0.04647295 -0.0437427  -0.54245072 -0.26977604 -0.49976769  0.49801964\n",
      "  0.38598663  0.32223191  1.36469348]\n"
     ]
    }
   ],
   "source": [
    "print('Weights before Momentum update')\n",
    "w= np.random.normal(0,0.01,9)   #Randomly initialize initial weights\n",
    "print(w)\n",
    "print('='*30)\n",
    " \n",
    "loss2=[]\n",
    "vt=0\n",
    "b=0.9\n",
    "for k in range(100):\n",
    "    for i in range(len(X)):\n",
    "        y_,L,dL,dy_,d1,d2,w=forward_propagation(X,y,w,i)\n",
    "        a=np.array(backward_propagation(dL,dy_,d1,d2))\n",
    "        vt=b*vt+((1-b)*a)\n",
    "        w=w-(0.001*vt)\n",
    "    l=[]\n",
    "    for i in range(len(X)):\n",
    "        y_,L,dL,dy_,d1,d2,w=forward_propagation(X,y,w,i)\n",
    "        l.append(L)\n",
    "    loss2.append(np.mean(l))\n",
    "    \n",
    "print('Weights after Momentum update')\n",
    "print(w)"
   ]
  },
  {
   "cell_type": "markdown",
   "metadata": {},
   "source": [
    "### Task 2.3:  Adam updation of weights"
   ]
  },
  {
   "cell_type": "code",
   "execution_count": 7,
   "metadata": {},
   "outputs": [
    {
     "name": "stdout",
     "output_type": "stream",
     "text": [
      "Weights before Adam update\n",
      "[ 0.00568692  0.00506078  0.00223827  0.0012921   0.00587713 -0.00163781\n",
      "  0.00862539 -0.00064237 -0.00793084]\n",
      "==============================\n",
      "Weights after Adam update\n",
      "[ 0.94588092  0.97958556 -1.00198787 -0.99082993 -1.00066972  1.01515881\n",
      "  0.86608607  1.0023174   0.99510419]\n"
     ]
    }
   ],
   "source": [
    "print('Weights before Adam update')\n",
    "w= np.random.normal(0,0.01,9)    #Randomly initialize initial weights\n",
    "print(w)\n",
    "print('='*30)\n",
    "\n",
    "loss3=[]\n",
    "vt=0\n",
    "mt=0\n",
    "b1=0.9\n",
    "b2=0.99\n",
    "eps=0.0000001\n",
    "for k in range(100):\n",
    "    for i in range(len(X)):\n",
    "        y_,L,dL,dy_,d1,d2,w=forward_propagation(X,y,w,i)\n",
    "        a=np.array(backward_propagation(dL,dy_,d1,d2))\n",
    "        mt=b1*mt+((1-b1)*a)\n",
    "        vt=b2*vt+((1-b2)*(a*a))\n",
    "        w=w-(0.001*(mt/(np.sqrt(vt)+eps)))\n",
    "    l=[]\n",
    "    for i in range(len(X)):\n",
    "        y_,L,dL,dy_,d1,d2,w=forward_propagation(X,y,w,i)\n",
    "        l.append(L)\n",
    "    loss3.append(np.mean(l))\n",
    "print('Weights after Adam update')\n",
    "print(w)"
   ]
  },
  {
   "cell_type": "code",
   "execution_count": 9,
   "metadata": {},
   "outputs": [
    {
     "data": {
      "text/plain": [
       "<matplotlib.legend.Legend at 0x1385b97bf60>"
      ]
     },
     "execution_count": 9,
     "metadata": {},
     "output_type": "execute_result"
    },
    {
     "data": {
      "image/png": "[encoded data removed]",
      "text/plain": [
       "<Figure size 432x288 with 1 Axes>"
      ]
     },
     "metadata": {
      "needs_background": "light"
     },
     "output_type": "display_data"
    }
   ],
   "source": [
    "import matplotlib.pyplot as plt\n",
    " \n",
    "x=[i for i in range(len(loss1))]\n",
    "plt.plot(x,loss1,label='Vanilla update')\n",
    "plt.plot(x,loss2,label='Momentum update')\n",
    "plt.plot(x,loss3,label='Adam update')\n",
    "\n",
    "plt.xlabel(\"Number of epochs\")\n",
    "plt.ylabel('Squared loss')\n",
    "plt.title(\"Squared error vs Number of epochs with different updates\")\n",
    "plt.legend()"
   ]
  },
  {
   "cell_type": "markdown",
   "metadata": {},
   "source": [
    "# Observations"
   ]
  },
  {
   "cell_type": "markdown",
   "metadata": {},
   "source": [
    "1)Using Adam update it is possible to get optimal weights with fewer epochs(it converges much much faster than other two updates).<br />\n",
    "2)Momentum  update is slightly better than Vanilla update"
   ]
  }
 ],
 "metadata": {
  "colab": {
   "name": "Backpropagation.ipynb",
   "provenance": [],
   "version": "0.3.2"
  },
  "kernelspec": {
   "display_name": "Python 3",
   "language": "python",
   "name": "python3"
  },
  "language_info": {
   "codemirror_mode": {
    "name": "ipython",
    "version": 3
   },
   "file_extension": ".py",
   "mimetype": "text/x-python",
   "name": "python",
   "nbconvert_exporter": "python",
   "pygments_lexer": "ipython3",
   "version": "3.7.3"
  }
 },
 "nbformat": 4,
 "nbformat_minor": 1
}
