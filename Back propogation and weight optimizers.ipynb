{
 "cells": [
  {
   "cell_type": "markdown",
   "metadata": {
    "colab_type": "text",
    "id": "N5QCLaUnrnBV"
   },
   "source": [
    "# Back Propagation"
   ]
  },
  {
   "cell_type": "markdown",
   "metadata": {},
   "source": [
    "Implement the custome backpropagation for the given graph and update the weights with vanill update(simple update),Momentum update and Adam update and compare the results."
   ]
  },
  {
   "cell_type": "code",
   "execution_count": 1,
   "metadata": {
    "colab": {},
    "colab_type": "code",
    "id": "y4WT0EJRrnBg",
    "outputId": "90804161-647c-4283-a8c2-27188dd451ce"
   },
   "outputs": [
    {
     "name": "stdout",
     "output_type": "stream",
     "text": [
      "(506, 6)\n",
      "(506, 5) (506,)\n"
     ]
    }
   ],
   "source": [
    "import pickle\n",
    "with open('data.pkl', 'rb') as f:\n",
    "    data = pickle.load(f)\n",
    "print(data.shape)\n",
    "X = data[:, :5]\n",
    "y = data[:, -1]\n",
    "print(X.shape, y.shape)"
   ]
  },
  {
   "cell_type": "markdown",
   "metadata": {
    "colab_type": "text",
    "id": "GIkq6U0SrnBu"
   },
   "source": [
    "# Computational graph"
   ]
  },
  {
   "cell_type": "markdown",
   "metadata": {
    "colab_type": "text",
    "id": "3XnJH-McrnBx"
   },
   "source": [
    "<img src='https://i.imgur.com/seSGbNS.png'>"
   ]
  },
  {
   "cell_type": "markdown",
   "metadata": {
    "colab_type": "text",
    "id": "YRQKYgJrrnB0"
   },
   "source": [
    "<pre>\n",
    "1. if you observe the graph, we are having input features [f1, f2, f3, f4, f5] and 9 weights [w1, w2, w3, w4, w5, w6,    w7, w8, w9]\n",
    "2. the final output of this graph is a value L which is computed as (Y-Y')^2\n",
    "</pre>"
   ]
  },
  {
   "cell_type": "markdown",
   "metadata": {
    "colab_type": "text",
    "id": "inW-os8IrnB3"
   },
   "source": [
    "###    Implementing backpropagation and Gradient checking\n",
    "\n",
    "\n",
    " \n",
    " \n",
    "<pre>we know that the derivative of any function is </pre>$$\\lim_{\\epsilon\\to0}\\frac{f(x+\\epsilon)-f(x-\\epsilon)}{2\\epsilon}$$\n",
    "<pre>\n",
    "The definition above can be used as a numerical approximation of the derivative. Taking an epsilon small enough, the calculated approximation will have an error in the range of epsilon squared. \n",
    "\n",
    "In other words, if epsilon is 0.001, the approximation will be off by 0.00001.\n",
    "\n",
    "Therefore, we can use this to approximate the gradient, and in turn make sure that backpropagation is implemented properly. This forms the basis of gradient checking!\n",
    "\n",
    "</pre>\n",
    "\n",
    "<font >\n",
    "lets understand the concept with a simple example:\n",
    "$f(w1,w2,x1,x2)=w_{1}^{2} . x_{1} + w_{2} . x_{2}$ \n",
    "\n",
    "from the above function lets assume $w_{1}=1$, $w_{2}=2$, $x_{1}=3$, $x_{2}=4$ the gradient of $f$ w.r.t $w_{1}$ is\n",
    "\n",
    "\\begin{array} {lcl}\n",
    "\\frac{df}{dw_{1}} = dw_{1} &=&2.w_{1}.x_{1} \\\\& = &2.1.3\\\\& = &6\n",
    "\\end{array}\n",
    "\n",
    "\n",
    "let calculate the aproximate gradient of $w_{1}$ as mentinoned in the above formula and considering $\\epsilon=0.0001$\n",
    "\n",
    "\\begin{array} {lcl}\n",
    "dw_1^{approx} & = & \\frac{f(w1+\\epsilon,w2,x1,x2)-f(w1-\\epsilon,w2,x1,x2)}{2\\epsilon} \\\\ & = & \\frac{((1+0.0001)^{2} . 3 + 2 . 4) - ((1-0.0001)^{2} . 3 + 2 . 4)}{2\\epsilon} \\\\ & = & \\frac{(1.00020001 . 3 + 2 . 4) - (0.99980001. 3 + 2 . 4)}{2*0.0001} \\\\ & = & \\frac{(11.00060003) - (10.99940003)}{0.0002}\\\\ & = & 5.99999999999\n",
    "\\end{array}\n",
    "\n",
    "Then, we apply the following formula for gradient check: <i>gradient_check</i> = \n",
    "$\\frac{\\left\\Vert\\left (dW-dW^{approx}\\rm\\right) \\right\\Vert_2}{\\left\\Vert\\left (dW\\rm\\right) \\right\\Vert_2+\\left\\Vert\\left (dW^{approx}\\rm\\right) \\right\\Vert_2}$\n",
    "\n",
    "The equation above is basically the Euclidean distance normalized by the sum of the norm of the vectors. We use normalization in case that one of the vectors is very small.\n",
    "As a value for epsilon, we usually opt for 1e-7. Therefore, if gradient check return a value less than 1e-7, then it means that backpropagation was implemented correctly. Otherwise, there is potentially a mistake in your implementation. If the value exceeds 1e-3, then you are sure that the code is not correct.\n",
    "\n",
    "in our example: <i>gradient_check</i> $ = \\frac{(6 - 5.999999999994898)}{(6 + 5.999999999994898)} = 4.2514140356330737e^{-13}$\n",
    "\n",
    "you can mathamatically derive the same thing like this\n",
    "\n",
    "\\begin{array} {lcl}\n",
    "dw_1^{approx} & = & \\frac{f(w1+\\epsilon,w2,x1,x2)-f(w1-\\epsilon,w2,x1,x2)}{2\\epsilon} \\\\ & = & \\frac{((w_{1}+\\epsilon)^{2} . x_{1} + w_{2} . x_{2}) - ((w_{1}-\\epsilon)^{2} . x_{1} + w_{2} . x_{2})}{2\\epsilon} \\\\ & = & \\frac{4. \\epsilon.w_{1}. x_{1}}{2\\epsilon} \\\\ & = &  2.w_{1}.x_{1}\n",
    "\\end{array}\n",
    "\n",
    " "
   ]
  },
  {
   "cell_type": "markdown",
   "metadata": {},
   "source": [
    "### Computation graph with each output from different functions "
   ]
  },
  {
   "cell_type": "markdown",
   "metadata": {},
   "source": [
    "<img src='https://i.imgur.com/I7C1U4d.jpg'>"
   ]
  },
  {
   "cell_type": "markdown",
   "metadata": {},
   "source": [
    "### Differentiation of each output with corresponding input"
   ]
  },
  {
   "cell_type": "markdown",
   "metadata": {},
   "source": [
    "<img src='https://i.imgur.com/4YiRSdo.jpg'>"
   ]
  },
  {
   "cell_type": "code",
   "execution_count": 2,
   "metadata": {},
   "outputs": [],
   "source": [
    "import numpy as np\n",
    "w= np.random.normal(0,0.01,9) #randomly initialize weights\n",
    "def forward_propagation(X, y,w,i):#looking at the graph write corresponding eequations and derivatives \n",
    "    q1=w[0]*X[i][0]\n",
    "    q2=w[1]*X[i][1]  #all the upper connections are represented as q\n",
    "    q3=q1+q2\n",
    "    q4=q2+q1\n",
    "    q5=q3*q4\n",
    "    q6=q5+w[5]\n",
    "    q7=np.exp(q6)\n",
    "    q8=q7+w[6]\n",
    "    q9=np.tanh(q8)\n",
    "    #----------------------------\n",
    "    k1=w[2]*X[i][2]\n",
    "    k2=np.sin(k1)      #all the upper connections are represented as k\n",
    "    k3=w[3]*X[i][3]\n",
    "    k4=w[4]*X[i][4]\n",
    "    k5=k3+k4\n",
    "    k6=k2*k5\n",
    "    k7=k6+w[7]\n",
    "    k8=1/(1+np.exp(-(k7)))\n",
    "    k9=k8*w[8]\n",
    "    #-----------------------------\n",
    "    y_=q9+k9 #final predicted y value\n",
    "    L=(y[i]-y_)*(y[i]-y_) #Loss function\n",
    "    #-----------------------------\n",
    "    dL=1\n",
    "    dy_=-2*(y[i]-y_)\n",
    "    #-----------------------------\n",
    "    #derivatives of the first layer\n",
    "    d1={'dq9':1,'dq8':(1-(q9*q9)),'dq7':1,'dw6':1,'dq6':q7,'dq5':1,'dw5':1,'dq4':q3,'dq3':q4,'dq2':1,'dq1':1,'dw1':X[i][1],'dw0':X[i][0]}     \n",
    "    #------------------------------\n",
    "    #derivatives of the second layer\n",
    "    d2={'dk9':1,'dk8':w[8],'dw8':k8,'dk7':k8*(1-k8),'dk6':1,'dw7':1,'dk5':k2,'dk4':1,'dk3':1,'dw4':X[i][4],'dw3':X[i][3],'dk2':k5,'dk1':np.cos(k1),'dw2':X[i][2]}\n",
    "    \n",
    "    return y_,L,dL,dy_,d1,d2,w"
   ]
  },
  {
   "cell_type": "code",
   "execution_count": 3,
   "metadata": {},
   "outputs": [],
   "source": [
    "n=1 #row indecies\n",
    "y_,L,dL,dy_,d1,d2,w=forward_propagation(X,y,w,n)\n",
    "def backward_propagation(dL,dy_,d1,d2):\n",
    "    #apply chain rule to calculate derivatives\n",
    "    dw6=dL*dy_*d1['dq9']*d1['dq8']*d1['dw6']#multiply each intermediate derivaties to reach the derivatie with loss function \n",
    "    dw5=dL*dy_*d1['dq9']*d1['dq8']*d1['dq7']*d1['dq6']*d1['dw5']\n",
    "    \n",
    "    a1=dL*dy_*d1['dq9']*d1['dq8']*d1['dq7']*d1['dq6']*d1['dq5'] \n",
    "    dw0=(d1['dq3']+d1['dq4'])*a1*d1['dw0']*d1['dq1']\n",
    "    dw1=(d1['dq3']+d1['dq4'])*a1*d1['dw1']*d1['dq2']\n",
    "    \n",
    "    dw8=dL*dy_*d2['dk9']*d2['dw8']\n",
    "    dw7=dL*dy_*d2['dk9']*d2['dk8']*d2['dk7']*d2['dw7']\n",
    "    dw4=dw7*d2['dk6']*d2['dk5']*d2['dk4']*d2['dw4']\n",
    "    dw3=dw7*d2['dk6']*d2['dk5']*d2['dk3']*d2['dw3']\n",
    "    dw2=dw7*d2['dk6']*d2['dk2']*d2['dk1']*d2['dw2']\n",
    "    \n",
    "    return dw0,dw1,dw2,dw3,dw4,dw5,dw6,dw7,dw8  \n",
    "a=list(backward_propagation(dL,dy_,d1,d2))  #list of all weights found with back propogation"
   ]
  },
  {
   "cell_type": "code",
   "execution_count": 4,
   "metadata": {},
   "outputs": [
    {
     "name": "stdout",
     "output_type": "stream",
     "text": [
      "+---------+-------------------------+-------------------------+------------------------+\n",
      "| Weights |  Approximate Gradients  |     Back propogation    |   Gradient Checking    |\n",
      "+---------+-------------------------+-------------------------+------------------------+\n",
      "|    W0   |  0.0023751938504901204  |   0.002375193855812572  | 1.120424691592324e-09  |\n",
      "|    W1   |  -0.001469698895917304  |  -0.0014696988985221458 | 8.861820929770709e-10  |\n",
      "|    W2   |  2.3739565868652335e-07 |  2.3739509063287615e-07 | 1.1964294755370769e-06 |\n",
      "|    W3   | -1.1073253425308849e-07 | -1.1073103325463195e-07 | 6.777631523916089e-06  |\n",
      "|    W4   |  -8.302469822751846e-08 |  -8.302192965757275e-08 | 1.6673448783420905e-05 |\n",
      "|    W5   |   -0.8810131434033863   |   -0.8810131455691624   | 1.2291395012430233e-09 |\n",
      "|    W6   |   -0.8898287590930476   |    -0.889828754209707   | 2.743977750922543e-09  |\n",
      "|    W7   |  4.507762163541429e-05  |  4.5077620649579116e-05 | 1.0934862437961367e-08 |\n",
      "|    W8   |   -1.0683332411620672   |   -1.0683332411625568   | 2.2914589521103733e-13 |\n",
      "+---------+-------------------------+-------------------------+------------------------+\n"
     ]
    }
   ],
   "source": [
    "from prettytable import PrettyTable\n",
    "#list of all the approximate gradients ,gradients and gradient checking with one iteration    \n",
    "x = PrettyTable()\n",
    "x.field_names = [\"Weights\", \"Approximate Gradients\", \"Back propogation\", \"Gradient Checking\"]\n",
    "\n",
    "p=w.copy()\n",
    "e=0.0001\n",
    "for i in range(len(w)):#iterate through each weight to find approximate gradients\n",
    "    w=p\n",
    "    k=w.copy()\n",
    "    m=w.copy()\n",
    "    k[i]=k[i]+e #weight + small value\n",
    "    m[i]=m[i]-e #weight - small value\n",
    "    y_,L1,dL,dy_,d1,d2,w=forward_propagation(X,y,k,n) #find Loss function with corresponding weight\n",
    "    y_,L2,dL,dy_,d1,d2,w=forward_propagation(X,y,m,n)\n",
    "    Ag=(L1-L2)/(2*e) #approximate gradient\n",
    "    \n",
    "    D=np.sqrt((Ag-a[i])*(Ag-a[i]))/((np.sqrt(Ag*Ag))+np.sqrt(a[i]*a[i])) #as per the above function\n",
    "    x.add_row([\"W\"+str(i), Ag, a[i],D])\n",
    "    \n",
    "print(x)"
   ]
  },
  {
   "cell_type": "markdown",
   "metadata": {},
   "source": [
    "# Observation"
   ]
  },
  {
   "cell_type": "markdown",
   "metadata": {},
   "source": [
    "Approximate gradients and Back propagation are similar as the Values in Gradient Checking column are in order of 10 power minus 9"
   ]
  },
  {
   "cell_type": "markdown",
   "metadata": {
    "colab_type": "text",
    "id": "mf1fj5ZernB5"
   },
   "source": [
    "#   Optimizers"
   ]
  },
  {
   "cell_type": "markdown",
   "metadata": {},
   "source": [
    "### 1:  Vanilla updation of weights"
   ]
  },
  {
   "cell_type": "code",
   "execution_count": 5,
   "metadata": {},
   "outputs": [
    {
     "name": "stdout",
     "output_type": "stream",
     "text": [
      "Weights before Vanilla update\n",
      "[-7.70542319e-03  6.09847825e-03  8.61042220e-03  7.46868837e-03\n",
      "  5.45609257e-05  7.24765717e-03  2.18462012e-03 -5.21608504e-03\n",
      " -7.06543852e-03]\n",
      "==============================\n",
      "Weights after Vanilla update\n",
      "[-0.01579649  0.00360151  0.66976599  0.37458278  0.60255825  0.4831652\n",
      "  0.37819386  0.271069    1.35342488]\n"
     ]
    }
   ],
   "source": [
    "print('Weights before Vanilla update')\n",
    "w= np.random.normal(0,0.01,9) #Randomly initialize initial weights\n",
    "print(w)\n",
    "print('='*30)\n",
    "\n",
    "loss1=[]\n",
    "for k in range(100): #100 epochs\n",
    "    for i in range(len(X)):#iterate through all input values to get optimum w   #\n",
    "        y_,L,dL,dy_,d1,d2,w=forward_propagation(X,y,w,i)                        #  one epoch\n",
    "        a=backward_propagation(dL,dy_,d1,d2)                                    #  with one \n",
    "        w=w-(0.001*np.array(a))  #w-(learning rate*derivation of w)             #  for loop\n",
    "                                 #all the eight weights are changed at once\n",
    "    l=[]\n",
    "    for i in range(len(X)):\n",
    "        y_,L,dL,dy_,d1,d2,w=forward_propagation(X,y,w,i) #returns the loss for each input with new weights\n",
    "        l.append(L)  #append loss for each input\n",
    "    loss1.append(np.mean(l))  #find average loss \n",
    "print('Weights after Vanilla update')\n",
    "print(w)"
   ]
  },
  {
   "cell_type": "markdown",
   "metadata": {},
   "source": [
    "### 2:  Momentum updation of weights"
   ]
  },
  {
   "cell_type": "code",
   "execution_count": 6,
   "metadata": {},
   "outputs": [
    {
     "name": "stdout",
     "output_type": "stream",
     "text": [
      "Weights before Momentum update\n",
      "[ 0.02102926  0.01160344  0.02405904  0.0031224  -0.00198604  0.01328501\n",
      "  0.00623199  0.02417123  0.00563621]\n",
      "==============================\n",
      "Weights after Momentum update\n",
      "[0.10685619 0.07032654 0.70389333 0.40398512 0.62617726 0.46757741\n",
      " 0.36536582 0.27340807 1.33972129]\n"
     ]
    }
   ],
   "source": [
    "print('Weights before Momentum update')\n",
    "w= np.random.normal(0,0.01,9)   #Randomly initialize initial weights\n",
    "print(w)\n",
    "print('='*30)\n",
    " \n",
    "loss2=[]\n",
    "vt=0\n",
    "b=0.9\n",
    "for k in range(100):\n",
    "    for i in range(len(X)):\n",
    "        y_,L,dL,dy_,d1,d2,w=forward_propagation(X,y,w,i)\n",
    "        a=np.array(backward_propagation(dL,dy_,d1,d2))\n",
    "        vt=b*vt+((1-b)*a)\n",
    "        w=w-(0.001*vt)\n",
    "    l=[]\n",
    "    for i in range(len(X)):\n",
    "        y_,L,dL,dy_,d1,d2,w=forward_propagation(X,y,w,i)\n",
    "        l.append(L)\n",
    "    loss2.append(np.mean(l))\n",
    "    \n",
    "print('Weights after Momentum update')\n",
    "print(w)"
   ]
  },
  {
   "cell_type": "markdown",
   "metadata": {},
   "source": [
    "###  3:  Adam updation of weights"
   ]
  },
  {
   "cell_type": "code",
   "execution_count": 7,
   "metadata": {},
   "outputs": [
    {
     "name": "stdout",
     "output_type": "stream",
     "text": [
      "Weights before Adam update\n",
      "[-0.00199707 -0.00489994  0.00086265  0.0095772   0.01063969  0.00454622\n",
      "  0.01003425  0.00883711 -0.01274612]\n",
      "==============================\n",
      "Weights after Adam update\n",
      "[-0.92816456 -0.94988814  1.00577596  1.00216289  1.00947266  1.03999059\n",
      "  0.90192179  0.99671677  1.00201591]\n"
     ]
    }
   ],
   "source": [
    "print('Weights before Adam update')\n",
    "w= np.random.normal(0,0.01,9)    #Randomly initialize initial weights\n",
    "print(w)\n",
    "print('='*30)\n",
    "\n",
    "loss3=[]\n",
    "vt=0\n",
    "mt=0\n",
    "b1=0.9\n",
    "b2=0.99\n",
    "eps=0.0000001\n",
    "for k in range(100):\n",
    "    for i in range(len(X)):\n",
    "        y_,L,dL,dy_,d1,d2,w=forward_propagation(X,y,w,i)\n",
    "        a=np.array(backward_propagation(dL,dy_,d1,d2))\n",
    "        mt=b1*mt+((1-b1)*a)\n",
    "        vt=b2*vt+((1-b2)*(a*a))\n",
    "        w=w-(0.001*(mt/(np.sqrt(vt)+eps)))\n",
    "    l=[]\n",
    "    for i in range(len(X)):\n",
    "        y_,L,dL,dy_,d1,d2,w=forward_propagation(X,y,w,i)\n",
    "        l.append(L)\n",
    "    loss3.append(np.mean(l))\n",
    "print('Weights after Adam update')\n",
    "print(w)"
   ]
  },
  {
   "cell_type": "code",
   "execution_count": 8,
   "metadata": {},
   "outputs": [
    {
     "data": {
      "text/plain": [
       "<matplotlib.legend.Legend at 0x1dffe102160>"
      ]
     },
     "execution_count": 8,
     "metadata": {},
     "output_type": "execute_result"
    },
    {
     "data": {
      "image/png": "[encoded data removed]",
      "text/plain": [
       "<Figure size 432x288 with 1 Axes>"
      ]
     },
     "metadata": {
      "needs_background": "light"
     },
     "output_type": "display_data"
    }
   ],
   "source": [
    "import matplotlib.pyplot as plt\n",
    " \n",
    "x=[i for i in range(len(loss1))]\n",
    "plt.plot(x,loss1,label='Vanilla update')\n",
    "plt.plot(x,loss2,label='Momentum update')\n",
    "plt.plot(x,loss3,label='Adam update')\n",
    "\n",
    "plt.xlabel(\"Number of epochs\")\n",
    "plt.ylabel('Squared loss')\n",
    "plt.title(\"Squared error vs Number of epochs with different updates\")\n",
    "plt.legend()"
   ]
  },
  {
   "cell_type": "markdown",
   "metadata": {},
   "source": [
    "# Observations"
   ]
  },
  {
   "cell_type": "markdown",
   "metadata": {},
   "source": [
    "1)Using Adam update it is possible to get optimal weights with fewer epochs(it converges much much faster than other two updates).<br />\n",
    "2)Momentum  update is slightly better than Vanilla update"
   ]
  }
 ],
 "metadata": {
  "colab": {
   "name": "Backpropagation.ipynb",
   "provenance": [],
   "version": "0.3.2"
  },
  "kernelspec": {
   "display_name": "Python 3",
   "language": "python",
   "name": "python3"
  },
  "language_info": {
   "codemirror_mode": {
    "name": "ipython",
    "version": 3
   },
   "file_extension": ".py",
   "mimetype": "text/x-python",
   "name": "python",
   "nbconvert_exporter": "python",
   "pygments_lexer": "ipython3",
   "version": "3.7.3"
  }
 },
 "nbformat": 4,
 "nbformat_minor": 1
}
