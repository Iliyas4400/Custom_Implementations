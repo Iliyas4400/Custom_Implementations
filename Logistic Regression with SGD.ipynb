{
 "cells": [
  {
   "cell_type": "code",
   "execution_count": 1,
   "metadata": {
    "colab": {},
    "colab_type": "code",
    "id": "I2S-uFqwSvmg"
   },
   "outputs": [],
   "source": [
    "import numpy as np\n",
    "import pandas as pd\n",
    "from sklearn.datasets import make_classification"
   ]
  },
  {
   "cell_type": "code",
   "execution_count": 2,
   "metadata": {
    "colab": {},
    "colab_type": "code",
    "id": "FUxLkBjISvmr"
   },
   "outputs": [],
   "source": [
    "X, y = make_classification(n_samples=50000, n_features=15, n_informative=10, n_redundant=5,\n",
    "                           n_classes=2, weights=[0.7], class_sep=0.7, random_state=15)"
   ]
  },
  {
   "cell_type": "code",
   "execution_count": 3,
   "metadata": {
    "colab": {},
    "colab_type": "code",
    "id": "xexp5GYNSvmz",
    "outputId": "48e3356f-3756-4945-f6b7-f643b59063b4"
   },
   "outputs": [
    {
     "data": {
      "text/plain": [
       "((50000, 15), (50000,))"
      ]
     },
     "execution_count": 3,
     "metadata": {},
     "output_type": "execute_result"
    }
   ],
   "source": [
    "X.shape, y.shape"
   ]
  },
  {
   "cell_type": "markdown",
   "metadata": {
    "colab_type": "text",
    "id": "54vJVc_KSvm9"
   },
   "source": [
    " "
   ]
  },
  {
   "cell_type": "code",
   "execution_count": 4,
   "metadata": {
    "colab": {},
    "colab_type": "code",
    "id": "9pKAn1-ASvm_"
   },
   "outputs": [],
   "source": [
    "from sklearn.model_selection import train_test_split"
   ]
  },
  {
   "cell_type": "code",
   "execution_count": 5,
   "metadata": {
    "colab": {},
    "colab_type": "code",
    "id": "r97pFTgrSvnE"
   },
   "outputs": [],
   "source": [
    "X_train, X_test, y_train, y_test = train_test_split(X, y, test_size=0.25, random_state=15)"
   ]
  },
  {
   "cell_type": "code",
   "execution_count": 6,
   "metadata": {
    "colab": {},
    "colab_type": "code",
    "id": "jykLIXZNSvnJ",
    "outputId": "2e462e5f-1546-4edf-bcc8-e7a42f9057d7"
   },
   "outputs": [
    {
     "data": {
      "text/plain": [
       "((37500, 15), (37500,), (12500, 15), (12500,))"
      ]
     },
     "execution_count": 6,
     "metadata": {},
     "output_type": "execute_result"
    }
   ],
   "source": [
    "X_train.shape, y_train.shape, X_test.shape, y_test.shape"
   ]
  },
  {
   "cell_type": "markdown",
   "metadata": {
    "colab_type": "text",
    "id": "g0-M6oXASvnO"
   },
   "source": [
    " "
   ]
  },
  {
   "cell_type": "code",
   "execution_count": 7,
   "metadata": {
    "colab": {},
    "colab_type": "code",
    "id": "sShoMeocSvnP"
   },
   "outputs": [],
   "source": [
    "from sklearn import linear_model"
   ]
  },
  {
   "cell_type": "code",
   "execution_count": 8,
   "metadata": {
    "colab": {},
    "colab_type": "code",
    "id": "gm6wi8L2SvnU",
    "outputId": "dccc42b5-e1eb-4e2f-9fa2-07f405d4f761"
   },
   "outputs": [
    {
     "data": {
      "text/plain": [
       "SGDClassifier(eta0=0.0001, learning_rate='constant', loss='log',\n",
       "              random_state=15, verbose=2)"
      ]
     },
     "execution_count": 8,
     "metadata": {},
     "output_type": "execute_result"
    }
   ],
   "source": [
    "# alpha : float\n",
    "# Constant that multiplies the regularization term. \n",
    "\n",
    "# eta0 : double\n",
    "# The initial learning rate for the ‘constant’, ‘invscaling’ or ‘adaptive’ schedules.\n",
    "\n",
    "clf = linear_model.SGDClassifier(eta0=0.0001, alpha=0.0001, loss='log', random_state=15, penalty='l2', tol=1e-3, verbose=2, learning_rate='constant')\n",
    "clf"
   ]
  },
  {
   "cell_type": "code",
   "execution_count": 9,
   "metadata": {
    "colab": {},
    "colab_type": "code",
    "id": "Q4WFoxgASvnc",
    "outputId": "469de818-0a3e-42e8-bc19-ac6d088b9617"
   },
   "outputs": [
    {
     "name": "stdout",
     "output_type": "stream",
     "text": [
      "-- Epoch 1\n",
      "Norm: 0.77, NNZs: 15, Bias: -0.316653, T: 37500, Avg. loss: 0.455552\n",
      "Total training time: 0.01 seconds.\n",
      "-- Epoch 2\n",
      "Norm: 0.91, NNZs: 15, Bias: -0.472747, T: 75000, Avg. loss: 0.394686\n",
      "Total training time: 0.02 seconds.\n",
      "-- Epoch 3\n",
      "Norm: 0.98, NNZs: 15, Bias: -0.580082, T: 112500, Avg. loss: 0.385711\n",
      "Total training time: 0.02 seconds.\n",
      "-- Epoch 4\n",
      "Norm: 1.02, NNZs: 15, Bias: -0.658292, T: 150000, Avg. loss: 0.382083\n",
      "Total training time: 0.03 seconds.\n",
      "-- Epoch 5\n",
      "Norm: 1.04, NNZs: 15, Bias: -0.719528, T: 187500, Avg. loss: 0.380486\n",
      "Total training time: 0.04 seconds.\n",
      "-- Epoch 6\n",
      "Norm: 1.05, NNZs: 15, Bias: -0.763409, T: 225000, Avg. loss: 0.379578\n",
      "Total training time: 0.05 seconds.\n",
      "-- Epoch 7\n",
      "Norm: 1.06, NNZs: 15, Bias: -0.795106, T: 262500, Avg. loss: 0.379150\n",
      "Total training time: 0.06 seconds.\n",
      "-- Epoch 8\n",
      "Norm: 1.06, NNZs: 15, Bias: -0.819925, T: 300000, Avg. loss: 0.378856\n",
      "Total training time: 0.06 seconds.\n",
      "-- Epoch 9\n",
      "Norm: 1.07, NNZs: 15, Bias: -0.837805, T: 337500, Avg. loss: 0.378585\n",
      "Total training time: 0.07 seconds.\n",
      "-- Epoch 10\n",
      "Norm: 1.08, NNZs: 15, Bias: -0.853138, T: 375000, Avg. loss: 0.378630\n",
      "Total training time: 0.08 seconds.\n",
      "Convergence after 10 epochs took 0.08 seconds\n"
     ]
    },
    {
     "data": {
      "text/plain": [
       "SGDClassifier(eta0=0.0001, learning_rate='constant', loss='log',\n",
       "              random_state=15, verbose=2)"
      ]
     },
     "execution_count": 9,
     "metadata": {},
     "output_type": "execute_result"
    }
   ],
   "source": [
    "clf.fit(X=X_train, y=y_train)"
   ]
  },
  {
   "cell_type": "code",
   "execution_count": 10,
   "metadata": {
    "colab": {},
    "colab_type": "code",
    "id": "7WaVxhGpSvnj",
    "outputId": "1e67badc-96e7-4633-eb72-1d4c24aaa295"
   },
   "outputs": [
    {
     "data": {
      "text/plain": [
       "(array([[-0.42336692,  0.18547565, -0.14859036,  0.34144407, -0.2081867 ,\n",
       "          0.56016579, -0.45242483, -0.09408813,  0.2092732 ,  0.18084126,\n",
       "          0.19705191,  0.00421916, -0.0796037 ,  0.33852802,  0.02266721]]),\n",
       " (1, 15),\n",
       " array([-0.8531383]))"
      ]
     },
     "execution_count": 10,
     "metadata": {},
     "output_type": "execute_result"
    }
   ],
   "source": [
    "clf.coef_, clf.coef_.shape, clf.intercept_"
   ]
  },
  {
   "cell_type": "markdown",
   "metadata": {
    "colab_type": "text",
    "id": "Su9e8fRLSvno"
   },
   "source": [
    " "
   ]
  },
  {
   "cell_type": "markdown",
   "metadata": {
    "colab_type": "text",
    "id": "gcz5_UqCSvnq"
   },
   "source": [
    " "
   ]
  },
  {
   "cell_type": "markdown",
   "metadata": {
    "colab_type": "text",
    "id": "UOBvEchCSvnr"
   },
   "source": [
    "## Implement Logistc Regression with L2 regularization Using SGD: without using sklearn"
   ]
  },
  {
   "cell_type": "markdown",
   "metadata": {},
   "source": [
    "- for each epoch:\n",
    "    - for each batch of data points in train: (keep batch size=1)\n",
    "        - calculate the gradient of loss function w.r.t each weight in weight vector\n",
    "        - Calculate the gradient of the intercept <a href='https://drive.google.com/file/d/1nQ08-XY4zvOLzRX-lGf8EYB5arb7-m1H/view?usp=sharing'>check this</a>\n",
    "        - Update weights and intercept (check the equation number 32 in the above mentioned <a href='https://drive.google.com/file/d/1nQ08-XY4zvOLzRX-lGf8EYB5arb7-m1H/view?usp=sharing'>pdf</a>): <br>\n",
    "        $w^{(t+1)} ← (1 − \\frac{αλ}{N} )w^{(t)} + αx_n(y_n − σ((w^{(t)})^{T} x_n+b^{t}))$ <br>\n",
    "        $b^{(t+1)} ← (b^t +  α(y_n - σ((w^{(t)})^{T} x_n+b^{t}))$ \n",
    "        "
   ]
  },
  {
   "cell_type": "code",
   "execution_count": 11,
   "metadata": {
    "colab": {},
    "colab_type": "code",
    "id": "B6Y5kVscSvn5"
   },
   "outputs": [
    {
     "name": "stdout",
     "output_type": "stream",
     "text": [
      "[0. 0. 0. 0. 0. 0. 0. 0. 0. 0. 0. 0. 0. 0. 0.]\n"
     ]
    }
   ],
   "source": [
    "eta0  = 0.0001\n",
    "alpha = 0.0001\n",
    "N = len(X_train)\n",
    "#initialize weights and interecept to zeros\n",
    "w=np.zeros(len(X_train[1]))    \n",
    "b=[0]    \n",
    "print(w)"
   ]
  },
  {
   "cell_type": "code",
   "execution_count": 12,
   "metadata": {},
   "outputs": [
    {
     "name": "stdout",
     "output_type": "stream",
     "text": [
      "[0.3010299956640568]\n",
      "[0.30102999566403754]\n",
      "********************\n"
     ]
    }
   ],
   "source": [
    "logloss_train=[]\n",
    "logloss_test=[]\n",
    "import math\n",
    "def compute_log_loss(y,x,w,b):\n",
    "    # your code\n",
    "    s=0\n",
    "    for i in range(len(x)):\n",
    "        a=y[i]*math.log10(1/(1+np.exp(-(np.dot(x[i],w)+b))))\n",
    "        c=(1-y[i])*math.log10(1-1/(1+np.exp(-(np.dot(x[i],w)+b))))\n",
    "        s+=a+c\n",
    "    loss=((-1/len(y))*s)\n",
    "    return loss\n",
    "#logloss of train and test data with random weight and interecept\n",
    "logloss_train.append(compute_log_loss(y_train,X_train,w,b))\n",
    "logloss_test.append(compute_log_loss(y_test,X_test,w,b))\n",
    "print(logloss_train)\n",
    "print(logloss_test)\n",
    "print('*'*20)"
   ]
  },
  {
   "cell_type": "code",
   "execution_count": 13,
   "metadata": {},
   "outputs": [
    {
     "name": "stderr",
     "output_type": "stream",
     "text": [
      "100%|██████████| 37500/37500 [00:01<00:00, 25153.90it/s]\n",
      "100%|██████████| 37500/37500 [00:01<00:00, 26711.45it/s]\n",
      "100%|██████████| 37500/37500 [00:01<00:00, 21246.75it/s]\n",
      "100%|██████████| 37500/37500 [00:01<00:00, 25615.27it/s]\n",
      "100%|██████████| 37500/37500 [00:01<00:00, 25158.97it/s]\n",
      "100%|██████████| 37500/37500 [00:01<00:00, 26643.06it/s]\n",
      "100%|██████████| 37500/37500 [00:01<00:00, 25287.98it/s]\n",
      "100%|██████████| 37500/37500 [00:01<00:00, 25090.84it/s]\n",
      "100%|██████████| 37500/37500 [00:01<00:00, 22864.11it/s]\n",
      "100%|██████████| 37500/37500 [00:01<00:00, 27435.57it/s]\n"
     ]
    }
   ],
   "source": [
    "wn=w #new weight\n",
    "wp=w #previous weight\n",
    "bn=b #new inrercept\n",
    "bp=b #previous intercept\n",
    "from tqdm import tqdm\n",
    "import random\n",
    "for j in range(0,10):#10epochs\n",
    "    for k in tqdm(range(len(X_train))):#iterate over all the input values\n",
    "        i=random.randint(0,len(X_train)-1)\n",
    "        #new weight is calculated as per the  eqn\n",
    "        wn=(1-alpha*eta0/len(X_train))*wp+alpha*X_train[i]*(y_train[i]-(1/(1+np.exp(-(np.dot(wp,X_train[i])+bp))))) \n",
    "        #new intercept is calculated as per the eqn\n",
    "        bn=bp+alpha*(y_train[i]-1/(1+np.exp(-(np.dot(wp,X_train[i])+bp))))\n",
    "        wp,bp=wn,bn# assign new weights and interecpt to previous weights and intercept\n",
    "    c=compute_log_loss(y_train,X_train,wn,bn)\n",
    "    d=compute_log_loss(y_test,X_test,wn,bn)\n",
    "    \n",
    "    logloss_train.append(c)\n",
    "    logloss_test.append(d)"
   ]
  },
  {
   "cell_type": "code",
   "execution_count": 14,
   "metadata": {},
   "outputs": [
    {
     "name": "stdout",
     "output_type": "stream",
     "text": [
      "[[-0.01287685 -0.00214762  0.00907403 -0.00698247 -0.00028287 -0.00756883\n",
      "  -0.0048229  -0.00040332  0.006591   -0.01036289 -0.00982314  0.00834673\n",
      "  -0.00791701  0.00322909  0.00586642]]\n",
      "[0.00278304]\n",
      "\n",
      "\n"
     ]
    }
   ],
   "source": [
    "#difference between weights and intercept\n",
    "print(wn-clf.coef_)\n",
    "print(bn-clf.intercept_)\n",
    "print('\\n')"
   ]
  },
  {
   "cell_type": "code",
   "execution_count": 16,
   "metadata": {
    "colab": {},
    "colab_type": "code",
    "id": "48gx6wQKSvoE",
    "outputId": "73838465-1f8e-4697-fe22-c49a816e1207"
   },
   "outputs": [
    {
     "name": "stdout",
     "output_type": "stream",
     "text": [
      "Accuracy after sklearn implementation\n",
      "0.7160266666666667\n",
      "0.71512\n",
      "====================\n",
      "Accuracy after SGD \n",
      "0.7194933333333333\n",
      "0.71896\n"
     ]
    }
   ],
   "source": [
    "def sigmoid(w,x,b):\n",
    "    return 1/(1+np.exp(-np.dot(x,w)+b))\n",
    "def pred(w,b, X):\n",
    "    N = len(X)\n",
    "    predict = []\n",
    "    for i in range(N):\n",
    "        if sigmoid(w, X[i], b) >= 0.5: # sigmoid(w,x,b) returns 1/(1+exp(-(dot(x,w)+b)))\n",
    "            predict.append(1)\n",
    "        else:\n",
    "            predict.append(0)\n",
    "    return np.array(predict)\n",
    "#accuracy with 0.5 as threshold\n",
    "from sklearn.metrics import accuracy_score\n",
    "print(\"Accuracy after sklearn implementation\")\n",
    "print(accuracy_score(y_train,pred(clf.coef_[0],clf.intercept_,X_train)))\n",
    "print(accuracy_score(y_test,pred(clf.coef_[0],clf.intercept_,X_test)))\n",
    "print(\"=\"*20)\n",
    "print(\"Accuracy after SGD \")\n",
    "print(accuracy_score(y_train,pred(wn,bn,X_train)))\n",
    "print(accuracy_score(y_test,pred(wn,bn,X_test)))"
   ]
  },
  {
   "cell_type": "code",
   "execution_count": 17,
   "metadata": {},
   "outputs": [
    {
     "name": "stdout",
     "output_type": "stream",
     "text": [
      "least test logloss 0.16532906673961978 ... difference between last two loglosses 4.6353417452849044e-05\n",
      "least train logloss 0.1643989445531453 ... difference between last two loglosses 0.0008631509764278344\n"
     ]
    },
    {
     "data": {
      "image/png": "[encoded data removed]",
      "text/plain": [
       "<Figure size 432x288 with 1 Axes>"
      ]
     },
     "metadata": {
      "needs_background": "light"
     },
     "output_type": "display_data"
    }
   ],
   "source": [
    "from matplotlib import pyplot as plt \n",
    "%matplotlib inline\n",
    "y=np.arange(0,len(logloss_test))\n",
    "plt.plot(logloss_train,'g-',label='train loss')\n",
    "plt.plot(logloss_test,'r--',label='test loss')\n",
    "plt.ylabel(\"Log Loss\")\n",
    "plt.xlabel('Number of epoches')\n",
    "plt.title('Log loss of train and test')\n",
    "plt.legend()\n",
    "print('least test logloss {} ... difference between last two loglosses {}'.format(logloss_test[-1],logloss_test[-1]-logloss_test[-2]))\n",
    "print('least train logloss {} ... difference between last two loglosses {}'.format(logloss_train[-1],logloss_test[-1]-logloss_train[-2]))"
   ]
  },
  {
   "cell_type": "markdown",
   "metadata": {},
   "source": [
    "# Observation"
   ]
  },
  {
   "cell_type": "markdown",
   "metadata": {},
   "source": [
    "The diference between SGDClassifier with and without sklearn is  in the order of 10^-4"
   ]
  },
  {
   "cell_type": "code",
   "execution_count": null,
   "metadata": {},
   "outputs": [],
   "source": []
  }
 ],
 "metadata": {
  "colab": {
   "collapsed_sections": [],
   "name": "Logistic Regression using SGD.ipynb",
   "provenance": []
  },
  "kernelspec": {
   "display_name": "Python 3",
   "language": "python",
   "name": "python3"
  },
  "language_info": {
   "codemirror_mode": {
    "name": "ipython",
    "version": 3
   },
   "file_extension": ".py",
   "mimetype": "text/x-python",
   "name": "python",
   "nbconvert_exporter": "python",
   "pygments_lexer": "ipython3",
   "version": "3.7.3"
  }
 },
 "nbformat": 4,
 "nbformat_minor": 1
}
